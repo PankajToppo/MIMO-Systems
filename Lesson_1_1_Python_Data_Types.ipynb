{
  "nbformat": 4,
  "nbformat_minor": 0,
  "metadata": {
    "colab": {
      "provenance": [],
      "collapsed_sections": [
        "FC4OrUaQ0AD8",
        "-ckpi-C72A6E",
        "RXFB8dG12Rc9"
      ],
      "include_colab_link": true
    },
    "kernelspec": {
      "name": "python3",
      "display_name": "Python 3"
    }
  },
  "cells": [
    {
      "cell_type": "markdown",
      "metadata": {
        "id": "view-in-github",
        "colab_type": "text"
      },
      "source": [
        "<a href=\"https://colab.research.google.com/github/PankajToppo/MIMO-Systems/blob/master/Lesson_1_1_Python_Data_Types.ipynb\" target=\"_parent\"><img src=\"https://colab.research.google.com/assets/colab-badge.svg\" alt=\"Open In Colab\"/></a>"
      ]
    },
    {
      "cell_type": "markdown",
      "metadata": {
        "id": "FC4OrUaQ0AD8"
      },
      "source": [
        "### Video Lessons\n",
        "[Numbers and Operations with Numbers (22 min)](https://drive.google.com/file/d/1r7rqrCyEN-s5CNH_PyCfap4QLbzwR2I9/view?usp=sharing)  \n",
        "\n",
        "[Indexing (17 min)](https://drive.google.com/file/d/135NpBXE0HDBLT3afVIkvXkdwH3VhZvE5/view?usp=sharing)  \n",
        "\n",
        "[Slicing and Stepping (5 min)](https://drive.google.com/file/d/1xXdjqp_5sDqn6VmJgsC9ViVeT_ck7LY-/view?usp=sharing)    \n",
        "\n",
        "[Finding, Splitting, and Concatenating with Strings (9 min)](https://drive.google.com/file/d/1kElM9JqzC5DDNMFvZ91Svz1w1g4q2Cn6/view?usp=sharing)  \n",
        "\n",
        "[Booleans and Comparisons (11 min)](https://drive.google.com/file/d/12dhVW0cU1kJAOtTmB5MdxLQIiHI3bOCs/view?usp=sharing)  \n",
        "\n",
        "[Variables and Assignment (4 min)](https://drive.google.com/file/d/1gGI2TNa6QISHbKXFvzbTqKzQG2lNL4D3/view?usp=sharing)   \n"
      ]
    },
    {
      "cell_type": "markdown",
      "metadata": {
        "id": "-ckpi-C72A6E"
      },
      "source": [
        "### Objectives:\n",
        "* gain confidence writing python in the console\n",
        "* be able to write and run a scripts using code and comments\n",
        "* distinguish among the types of values in python\n",
        "* perform operations with numbers and strings\n",
        "* perform operations with booleans - relational and logical comparisons\n",
        "* build skills in solving more complex problems that combine values and operations\n",
        "* become familiar with some resources to use while you are learning\n",
        "* learn some debugging skills\n",
        "\n"
      ]
    },
    {
      "cell_type": "markdown",
      "metadata": {
        "id": "RXFB8dG12Rc9"
      },
      "source": [
        "### References\n",
        "* [W3Schools Python](https://www.w3schools.com/python/)\n",
        "* [Python Basic Operators (Geeks for Geeks)](https://www.geeksforgeeks.org/python-operators/)\n",
        "* [Stack Overflow](https://stackoverflow.com/)"
      ]
    },
    {
      "cell_type": "markdown",
      "metadata": {
        "id": "P9GQ83YQzWJs"
      },
      "source": [
        "### 1.1.0 Intro to Variable Assignment (=)\n",
        "\n",
        "In the code block below, we are defining a variable and giving it a value, a=3."
      ]
    },
    {
      "cell_type": "code",
      "metadata": {
        "id": "DeBWXjSazYu4"
      },
      "source": [
        "a=3"
      ],
      "execution_count": null,
      "outputs": []
    },
    {
      "cell_type": "markdown",
      "metadata": {
        "id": "EUzj1rt13TB4"
      },
      "source": [
        "To check the value associated with a, we can type 'a' into a new code block and run it."
      ]
    },
    {
      "cell_type": "code",
      "metadata": {
        "id": "8xC141SE3FyO",
        "colab": {
          "base_uri": "https://localhost:8080/"
        },
        "outputId": "68a10221-8050-4ddf-938b-34930fdf160d"
      },
      "source": [
        "a\n",
        "# this is a comment"
      ],
      "execution_count": null,
      "outputs": [
        {
          "output_type": "execute_result",
          "data": {
            "text/plain": [
              "3"
            ]
          },
          "metadata": {},
          "execution_count": 10
        }
      ]
    },
    {
      "cell_type": "markdown",
      "metadata": {
        "id": "jnWwWrSS4GXe"
      },
      "source": [
        "We can also look at the value of 'a' by using the print() function.  Notice the (), this is a key way to recognize a function in Python."
      ]
    },
    {
      "cell_type": "code",
      "metadata": {
        "id": "LUxGc2kz4Yka",
        "colab": {
          "base_uri": "https://localhost:8080/"
        },
        "outputId": "be634c5f-55ef-48de-b336-46dafb960c47"
      },
      "source": [
        "print(a)"
      ],
      "execution_count": null,
      "outputs": [
        {
          "output_type": "stream",
          "name": "stdout",
          "text": [
            "3\n"
          ]
        }
      ]
    },
    {
      "cell_type": "markdown",
      "source": [
        "Here are some additional exercises."
      ],
      "metadata": {
        "id": "8xdpgN-aZ5iZ"
      }
    },
    {
      "cell_type": "code",
      "source": [],
      "metadata": {
        "id": "JhMrb3eRaAPc"
      },
      "execution_count": null,
      "outputs": []
    },
    {
      "cell_type": "markdown",
      "metadata": {
        "id": "MuUf85qjzZTS"
      },
      "source": [
        "Try typing 'b' into the next code block and notice the error."
      ]
    },
    {
      "cell_type": "code",
      "metadata": {
        "id": "Z_eXYwoIzZwB",
        "colab": {
          "base_uri": "https://localhost:8080/"
        },
        "outputId": "22a8a782-f475-4387-beaf-31eacadaa6d4"
      },
      "source": [
        "b\n"
      ],
      "execution_count": null,
      "outputs": [
        {
          "output_type": "execute_result",
          "data": {
            "text/plain": [
              "5"
            ]
          },
          "metadata": {},
          "execution_count": 12
        }
      ]
    },
    {
      "cell_type": "markdown",
      "metadata": {
        "id": "HDT_R8ue3ujZ"
      },
      "source": [
        "Notice that the variable b is not defined.  "
      ]
    },
    {
      "cell_type": "markdown",
      "metadata": {
        "id": "t96AK82231Og"
      },
      "source": [
        "We will learn that, in the Python language, variables are associated with data types.  To check a data type, we use a function called type().  Let's try this with the variable a.   "
      ]
    },
    {
      "cell_type": "code",
      "metadata": {
        "id": "2Ss1yfNn3_7I",
        "colab": {
          "base_uri": "https://localhost:8080/"
        },
        "outputId": "f93e1c81-5ced-4ea7-a36f-c740c58774bb"
      },
      "source": [
        "type(a)"
      ],
      "execution_count": null,
      "outputs": [
        {
          "output_type": "execute_result",
          "data": {
            "text/plain": [
              "int"
            ]
          },
          "metadata": {},
          "execution_count": 13
        }
      ]
    },
    {
      "cell_type": "code",
      "source": [
        "type(b)"
      ],
      "metadata": {
        "colab": {
          "base_uri": "https://localhost:8080/"
        },
        "id": "zM6T0GdDaJzt",
        "outputId": "db197c66-558b-4b33-b1e5-bd2772a6184a"
      },
      "execution_count": null,
      "outputs": [
        {
          "output_type": "execute_result",
          "data": {
            "text/plain": [
              "int"
            ]
          },
          "metadata": {},
          "execution_count": 14
        }
      ]
    },
    {
      "cell_type": "code",
      "source": [
        "b=5"
      ],
      "metadata": {
        "id": "2ZssedidaOgh"
      },
      "execution_count": null,
      "outputs": []
    },
    {
      "cell_type": "code",
      "source": [
        "type(b)"
      ],
      "metadata": {
        "colab": {
          "base_uri": "https://localhost:8080/"
        },
        "id": "uSH7HUfEaTJl",
        "outputId": "bbabf145-168f-4bca-9620-1de74a0faad8"
      },
      "execution_count": null,
      "outputs": [
        {
          "output_type": "execute_result",
          "data": {
            "text/plain": [
              "int"
            ]
          },
          "metadata": {},
          "execution_count": 16
        }
      ]
    },
    {
      "cell_type": "markdown",
      "metadata": {
        "id": "GRg5d7io4kiE"
      },
      "source": [
        "### 1.1.1 Numbers and Operations with Numbers\n",
        "In this section, we take a look at some of the more common types of numbers encountered in Python, namely, integers and floats."
      ]
    },
    {
      "cell_type": "markdown",
      "metadata": {
        "id": "kvfLoQMx5pGt"
      },
      "source": [
        "#### Integers and Floats:\n",
        "\n",
        "Type the following code in the code block and take a minute to notice what it is doing:\n",
        "\n",
        "```\n",
        "a=3\n",
        "print(a)\n",
        "print(type(a))\n",
        "```\n",
        "Then try:\n",
        "```\n",
        "b=3.14\n",
        "print(b)\n",
        "print(type(b))\n",
        "```"
      ]
    },
    {
      "cell_type": "code",
      "metadata": {
        "id": "9BmrnliO6N26",
        "colab": {
          "base_uri": "https://localhost:8080/"
        },
        "outputId": "c0f47f6f-8bde-4162-9038-3c36dc566d4b"
      },
      "source": [
        "a=3\n",
        "print(a)\n",
        "print(type(a))\n"
      ],
      "execution_count": null,
      "outputs": [
        {
          "output_type": "stream",
          "name": "stdout",
          "text": [
            "3\n",
            "<class 'int'>\n"
          ]
        }
      ]
    },
    {
      "cell_type": "code",
      "metadata": {
        "id": "ksMFc1p0EJ19",
        "colab": {
          "base_uri": "https://localhost:8080/"
        },
        "outputId": "d3c10cac-ac1d-4e0c-b262-bc463868557d"
      },
      "source": [
        "b=3.14\n",
        "print(b)\n",
        "print(type(b))"
      ],
      "execution_count": null,
      "outputs": [
        {
          "output_type": "stream",
          "name": "stdout",
          "text": [
            "3.14\n",
            "<class 'float'>\n"
          ]
        }
      ]
    },
    {
      "cell_type": "markdown",
      "metadata": {
        "id": "iuWI149N6a9V"
      },
      "source": [
        "An integer, 3, is a whole number.\n",
        "\n",
        "A float, 3.14, has both an integer and a rational component.  "
      ]
    },
    {
      "cell_type": "markdown",
      "metadata": {
        "id": "rs2IuAwAFrE1"
      },
      "source": [
        "### Operations with Numbers\n",
        "The following symbols can all be used to perform operations in python:\n",
        "```\n",
        "+   -   *   /   //   %\n",
        "```\n",
        "Take a little time to experiment with these operations using both integers and floats and try to understand what each operation does."
      ]
    },
    {
      "cell_type": "code",
      "metadata": {
        "id": "qQJPAusCFqVo",
        "colab": {
          "base_uri": "https://localhost:8080/"
        },
        "outputId": "ad47cabe-7d8e-469d-9eb5-bf7c492d8a6f"
      },
      "source": [
        "x=6\n",
        "y=4.5\n",
        "\n",
        "print('x+y=', x+y)\n",
        "# print('x-y=', x-y)\n",
        "# print('x*y=', x*y)\n",
        "# print('x/y=', x/y)\n",
        "# print('x//y=', x//y)\n",
        "# print('x%y=', x%y)\n"
      ],
      "execution_count": null,
      "outputs": [
        {
          "output_type": "stream",
          "name": "stdout",
          "text": [
            "x+y= 10.5\n"
          ]
        }
      ]
    },
    {
      "cell_type": "markdown",
      "metadata": {
        "id": "83tQftGYGLLB"
      },
      "source": [
        "|Operator|Description|Example|\n",
        "|---|---|---|\n",
        "|+|Addition|x+y|\n",
        "|-|Subtraction|x-y|\n",
        "|*|Multiplication|x*y|\n",
        "|/|Division|x/y|\n",
        "|//|Integer Division|x//y|\n",
        "|%|Modulus Operator|x%y|\n",
        "\n"
      ]
    },
    {
      "cell_type": "markdown",
      "metadata": {
        "id": "_w6c6C_fHquZ"
      },
      "source": [
        "The modulus operator returns the remainder when the first operand is diivided by the second.  What is the modulus operator useful for?\n",
        "\n",
        "Try typing the following in the code block:\n",
        "```\n",
        "x=264%4\n",
        "print(x)\n",
        "print(type(x))\n",
        "```\n",
        "Then try:\n",
        "```\n",
        "y=1054%4\n",
        "print(y)\n",
        "print(type(y))\n",
        "```\n"
      ]
    },
    {
      "cell_type": "code",
      "metadata": {
        "id": "W8qRT-roG0NV",
        "colab": {
          "base_uri": "https://localhost:8080/"
        },
        "outputId": "f9e051b9-8f13-4807-e294-9318e7de8b61"
      },
      "source": [
        "x=264%4 # using the modulus operator\n",
        "print(x)\n",
        "# print(type(x))"
      ],
      "execution_count": null,
      "outputs": [
        {
          "output_type": "stream",
          "name": "stdout",
          "text": [
            "0\n"
          ]
        }
      ]
    },
    {
      "cell_type": "code",
      "metadata": {
        "id": "7KPymkgrIS0k",
        "colab": {
          "base_uri": "https://localhost:8080/"
        },
        "outputId": "f5b9b144-ec61-4ea4-c60c-d0ad874bbb0a"
      },
      "source": [
        "y=1054%4\n",
        "print(y)\n",
        "# print(type(y))"
      ],
      "execution_count": null,
      "outputs": [
        {
          "output_type": "stream",
          "name": "stdout",
          "text": [
            "2\n"
          ]
        }
      ]
    },
    {
      "cell_type": "markdown",
      "metadata": {
        "id": "Zq19raOUIZea"
      },
      "source": [
        "Checking to see whether the remainder is 0 is a good way of checking if one number is an integer multiple of the other number.  The example above shows that 264 is an integer multible of 4, but 1054 is not an integer multiple of 4.  "
      ]
    },
    {
      "cell_type": "markdown",
      "metadata": {
        "id": "rzxvbV6TLcB0"
      },
      "source": [
        "### 1.1.2  Strings and Operations with Strings\n",
        "In python, strings can be defined using either single or double quotes.\n",
        "```\n",
        "w='we are learning python'\n",
        "w=\"we are learning python\"\n",
        "```"
      ]
    },
    {
      "cell_type": "code",
      "metadata": {
        "id": "3HnTxPk8aeDd",
        "colab": {
          "base_uri": "https://localhost:8080/"
        },
        "outputId": "1e282bd9-4bd2-42ff-806b-6fa9248b3e97"
      },
      "source": [
        "s='string'\n",
        "type(s)"
      ],
      "execution_count": null,
      "outputs": [
        {
          "output_type": "execute_result",
          "data": {
            "text/plain": [
              "str"
            ]
          },
          "metadata": {},
          "execution_count": 22
        }
      ]
    },
    {
      "cell_type": "code",
      "metadata": {
        "id": "TClY0XmtLaH9",
        "colab": {
          "base_uri": "https://localhost:8080/"
        },
        "outputId": "aef4086e-4e37-4e3f-edd4-789b7039ade7"
      },
      "source": [
        "w='we are learning python'\n",
        "print(w)"
      ],
      "execution_count": null,
      "outputs": [
        {
          "output_type": "stream",
          "name": "stdout",
          "text": [
            "we are learning python\n"
          ]
        }
      ]
    },
    {
      "cell_type": "code",
      "metadata": {
        "id": "SOCD2RouMtxq",
        "colab": {
          "base_uri": "https://localhost:8080/"
        },
        "outputId": "2cd575ea-34fb-4b5b-f247-4d9d78caf6d6"
      },
      "source": [
        "w=\"we are learning python\"\n",
        "print(w)"
      ],
      "execution_count": null,
      "outputs": [
        {
          "output_type": "stream",
          "name": "stdout",
          "text": [
            "we are learning python\n"
          ]
        }
      ]
    },
    {
      "cell_type": "markdown",
      "metadata": {
        "id": "dcd4eM0WMyls"
      },
      "source": [
        "#### Indexing Strings\n",
        "Each character in a string is associated with an index.  Imagine each character in the string lives in a box and that box has a number 0,1,2.  Those numbers are the indices used to identify the characters in the string.\n",
        "\n",
        "|0|1|2|3|4|5|6|7|8|9|10|11|12|13|14|15|16|17|18|19|20|21|\n",
        "|-|-|-|-|-|-|-|-|-|-|-|-|-|-|-|-|-|-|-|-|-|-|\n",
        "|w|e| |a|r|e| |l|e|a|r|n|i|n|g| |p|y|t|h|o|n|"
      ]
    },
    {
      "cell_type": "markdown",
      "metadata": {
        "id": "xkuJMpxNOowx"
      },
      "source": [
        "We can then ask python questions like: \"what character is in box 0\".  In Python syntax, this looks like:\n",
        "\n",
        "```\n",
        "w[0] <--- the first character in the string\n",
        "```\n",
        "\n",
        "```\n",
        "w[21] <--- the last character in the string\n",
        "```"
      ]
    },
    {
      "cell_type": "code",
      "metadata": {
        "id": "xpsexsC2OlEf",
        "colab": {
          "base_uri": "https://localhost:8080/"
        },
        "outputId": "2a94c569-8f6a-4864-a5e5-9dbc7dad422c"
      },
      "source": [
        "w=\"we are learning python\"\n",
        "print(w[0])"
      ],
      "execution_count": null,
      "outputs": [
        {
          "output_type": "stream",
          "name": "stdout",
          "text": [
            "w\n"
          ]
        }
      ]
    },
    {
      "cell_type": "code",
      "metadata": {
        "id": "hIcNNmE_PKOu",
        "colab": {
          "base_uri": "https://localhost:8080/"
        },
        "outputId": "f88b0263-80f8-4ffc-b748-4f576ffc34dc"
      },
      "source": [
        "w=\"we are learning python\"\n",
        "print(w[21])"
      ],
      "execution_count": null,
      "outputs": [
        {
          "output_type": "stream",
          "name": "stdout",
          "text": [
            "n\n"
          ]
        }
      ]
    },
    {
      "cell_type": "markdown",
      "metadata": {
        "id": "5YivYu7aPVd_"
      },
      "source": [
        "What happens if we try to access an index that is beyond the last character in the string?  Try\n",
        "```\n",
        "w[22]\n",
        "```"
      ]
    },
    {
      "cell_type": "code",
      "metadata": {
        "id": "gLhSuPf6Pzpn"
      },
      "source": [
        "w=\"we are learning python\"\n",
        "print(w[22])"
      ],
      "execution_count": null,
      "outputs": []
    },
    {
      "cell_type": "markdown",
      "metadata": {
        "id": "DosR8c2jP64_"
      },
      "source": [
        "There are other ways to access the last character in the string that can avoid the error.  Start by finding the length of the string with,\n",
        "```\n",
        "len(w)\n",
        "```\n",
        "Then find the character in string w at index ```[len(w)-1]```.\n",
        "```\n",
        "w[len(w)-1]\n",
        "```"
      ]
    },
    {
      "cell_type": "code",
      "metadata": {
        "id": "lQHdbNyoQJ2y"
      },
      "source": [
        "w=\"we are learning python\"\n",
        "print(w[len(w)-1])"
      ],
      "execution_count": null,
      "outputs": []
    },
    {
      "cell_type": "code",
      "metadata": {
        "id": "qCr0txPicQBp"
      },
      "source": [
        "len(w)"
      ],
      "execution_count": null,
      "outputs": []
    },
    {
      "cell_type": "markdown",
      "metadata": {
        "id": "mirlvpzaTgVP"
      },
      "source": [
        "Another good way to find the last character in a string is to use the ```[-1]``` index.\n",
        "```\n",
        "w[-1]\n",
        "```"
      ]
    },
    {
      "cell_type": "code",
      "metadata": {
        "id": "I2gNIGZkUQj8"
      },
      "source": [
        "w=\"we are learning python\"\n",
        "print(w[-1])"
      ],
      "execution_count": null,
      "outputs": []
    },
    {
      "cell_type": "code",
      "metadata": {
        "id": "FYR-gvh5cm_r"
      },
      "source": [
        "w[-3]"
      ],
      "execution_count": null,
      "outputs": []
    },
    {
      "cell_type": "markdown",
      "metadata": {
        "id": "HVC_6gLIUVXG"
      },
      "source": [
        "Notice that if we try to apply these same methods to numbers, we run into errors. Indexing is an operation that works with strings but not with numbers.  Try:\n",
        "```\n",
        "len(435)\n",
        "```"
      ]
    },
    {
      "cell_type": "code",
      "metadata": {
        "id": "xEkZWGHWc172"
      },
      "source": [
        "len(435)"
      ],
      "execution_count": null,
      "outputs": []
    },
    {
      "cell_type": "markdown",
      "metadata": {
        "id": "64Ss-bz2Uk25"
      },
      "source": [
        "#### Exercise\n",
        "Do a web search to see if you can figure out how to change a number to a string and a string into a number in python. This will come in handy over and over again.  "
      ]
    },
    {
      "cell_type": "code",
      "metadata": {
        "id": "hxFNaIEqU1AO"
      },
      "source": [
        "# Your code\n",
        "\n"
      ],
      "execution_count": null,
      "outputs": []
    },
    {
      "cell_type": "code",
      "metadata": {
        "id": "ZOg8GdQWU4Ph"
      },
      "source": [
        "# Your code\n",
        "\n"
      ],
      "execution_count": null,
      "outputs": []
    },
    {
      "cell_type": "markdown",
      "metadata": {
        "id": "TbgQgGjTVHq4"
      },
      "source": [
        "Make a note of where you found the answer.  Many may have looked at www.stackoverflow.com.  This site will be your friend in the future.  "
      ]
    },
    {
      "cell_type": "markdown",
      "metadata": {
        "id": "DJpmkVO7Vigf"
      },
      "source": [
        "#### Challenge Problem\n",
        "Write a program to add up the digits in the number 435 using indexing."
      ]
    },
    {
      "cell_type": "code",
      "metadata": {
        "id": "NZH1Qu3pVusn"
      },
      "source": [
        "n=435\n",
        "# your code\n",
        "\n",
        "\n"
      ],
      "execution_count": null,
      "outputs": []
    },
    {
      "cell_type": "markdown",
      "metadata": {
        "id": "_1pKOhFIWDhk"
      },
      "source": [
        "In the next lesson, we will learn more efficient techniques to help with this."
      ]
    },
    {
      "cell_type": "markdown",
      "metadata": {
        "id": "y4cbc6UNWMnZ"
      },
      "source": [
        "### 1.1.3 Slicing and Stepping\n",
        "Slicing is an operation used to select a portion of a string using the following format.\n",
        "```\n",
        "string[start:end]\n",
        "```\n",
        "For example:\n",
        "```\n",
        "s[1:-1]\n",
        "```\n",
        "takes the portion of the string that excudes the first and last character.  \n",
        "```\n",
        "s[1:]\n",
        "```\n",
        "yields the portion of the string that excludes the first character, but includes everything else.\n",
        "```\n",
        "s[:-1]\n",
        "```\n",
        "includes everything in the string except for the last character."
      ]
    },
    {
      "cell_type": "code",
      "metadata": {
        "id": "uF5JlJkXWLT8"
      },
      "source": [
        "s='abcdefghij'\n",
        "s[1:-1]"
      ],
      "execution_count": null,
      "outputs": []
    },
    {
      "cell_type": "code",
      "metadata": {
        "id": "1FeNM8bLmLGK"
      },
      "source": [
        "s='abcdefghij'\n",
        "s[1:]"
      ],
      "execution_count": null,
      "outputs": []
    },
    {
      "cell_type": "code",
      "metadata": {
        "id": "_o8SHch2mK45"
      },
      "source": [
        "s='abcdefghij'\n",
        "s[:-1]"
      ],
      "execution_count": null,
      "outputs": []
    },
    {
      "cell_type": "markdown",
      "metadata": {
        "id": "vuWcbttGme5Y"
      },
      "source": [
        "#### Exercise\n",
        "Try slicing all characters from the string ```s='abcdefghij'``` except for the last three."
      ]
    },
    {
      "cell_type": "code",
      "metadata": {
        "id": "kbCMQWX9mKek"
      },
      "source": [
        "s='abcdefghij'\n",
        "# your code\n",
        "s[:-3]"
      ],
      "execution_count": null,
      "outputs": []
    },
    {
      "cell_type": "markdown",
      "metadata": {
        "id": "JPdDSyv5mpne"
      },
      "source": [
        "### Exercise\n",
        "Try slicing all characters from the string ```s='abcdefghij'``` except for the first four."
      ]
    },
    {
      "cell_type": "code",
      "metadata": {
        "id": "G7TItUq3mqRl"
      },
      "source": [
        "s='abcdefghij'\n",
        "# your code\n"
      ],
      "execution_count": null,
      "outputs": []
    },
    {
      "cell_type": "markdown",
      "metadata": {
        "id": "bGxLpQQWneBN"
      },
      "source": [
        "#### Stepping\n",
        "Stepping can be used to slice a string into consistent pieces by indicating a start, end, and a step.  Where the step tells how many characters to skip at each step.\n",
        "```\n",
        "string[start:end:step]\n",
        "```\n",
        "For example:\n",
        "```\n",
        "s[0:-1:2]\n",
        "```\n",
        "Would return every other character and exclude the last character."
      ]
    },
    {
      "cell_type": "code",
      "metadata": {
        "id": "9fMslexWoL6G"
      },
      "source": [
        "s='abcdefghij'\n",
        "# your code\n",
        "s[0:-1:2]"
      ],
      "execution_count": null,
      "outputs": []
    },
    {
      "cell_type": "markdown",
      "metadata": {
        "id": "8SwWhdtcoTi9"
      },
      "source": [
        "### 1.1.4 Finding, Splitting, and Concatenating with Strings\n",
        "Here we explore some additional common methods that can be applied to strings to manipulate them in different ways."
      ]
    },
    {
      "cell_type": "markdown",
      "metadata": {
        "id": "7C2CvVsZosQu"
      },
      "source": [
        "#### Using the find() function\n",
        "The find function is a method that can be applied to a string in the form:\n",
        "```\n",
        "s.find('c')\n",
        "```\n",
        "The find method outputs the index of the first instance of the character 'c' in the string."
      ]
    },
    {
      "cell_type": "code",
      "metadata": {
        "id": "zjq_IQZzpD6X"
      },
      "source": [
        "s='abcdefghij'\n",
        "# your code\n",
        "s.find('c')"
      ],
      "execution_count": null,
      "outputs": []
    },
    {
      "cell_type": "markdown",
      "metadata": {
        "id": "oUsjTA0ZpIX8"
      },
      "source": [
        "What happens if the character we search for cannot be found in the string. Try:\n",
        "```\n",
        "s.find('z')\n",
        "```\n",
        "to see the result."
      ]
    },
    {
      "cell_type": "code",
      "metadata": {
        "id": "9PzALEMRpWKt"
      },
      "source": [
        "s='abcdefghij'\n",
        "# your code\n",
        "s.find('z')"
      ],
      "execution_count": null,
      "outputs": []
    },
    {
      "cell_type": "markdown",
      "metadata": {
        "id": "qzutBiLbpaSu"
      },
      "source": [
        "When you do this, the result is a -1 which is the way python communicates that the character 'z' does not exist in the string.  "
      ]
    },
    {
      "cell_type": "markdown",
      "metadata": {
        "id": "Y9EHcHNDpqU7"
      },
      "source": [
        "#### Splitting a String\n",
        "We can separate a string into its elements using the split() method. The following use of the split method will split on each space:\n",
        "```\n",
        "w='we are learning python'\n",
        "w.split(' ')\n",
        "```\n",
        "We can chosee the character that is used to split the string.  Here is another example to illustrate.\n",
        "```\n",
        "t='this.is.fun'\n",
        "t.split('.')\n",
        "```"
      ]
    },
    {
      "cell_type": "code",
      "metadata": {
        "id": "PexXQNDeqWXT"
      },
      "source": [
        "w='we are learning python'\n",
        "w.split(' ')"
      ],
      "execution_count": null,
      "outputs": []
    },
    {
      "cell_type": "code",
      "metadata": {
        "id": "CsqLXj7oqYan"
      },
      "source": [
        "t='this.is.fun'\n",
        "t.split('.')"
      ],
      "execution_count": null,
      "outputs": []
    },
    {
      "cell_type": "markdown",
      "metadata": {
        "id": "4nO_3aBmqcbz"
      },
      "source": [
        "Note the format of the output when we use the split method. It is a Python data type called a list.  We will become very familiar with lists in future lessons."
      ]
    },
    {
      "cell_type": "markdown",
      "metadata": {
        "id": "vfc-VhnGqp-N"
      },
      "source": [
        "#### Concatenating a String\n",
        "We can actually add strings together using the + operator.  We might try the following:\n",
        "```\n",
        "'we'+'are'+'learning'+'python'\n",
        "```\n",
        "The result would be:\n",
        "```\n",
        "'wearelearningpython'\n",
        "```\n",
        "So we could add in spaces between the words to make the sentence make sense:\n",
        "```\n",
        "'we'+' '+'are'+' '+'learning'+' '+'python'\n",
        "```"
      ]
    },
    {
      "cell_type": "code",
      "metadata": {
        "id": "PPw6-rXustWO"
      },
      "source": [
        "'we'+'are'+'learning'+'python'"
      ],
      "execution_count": null,
      "outputs": []
    },
    {
      "cell_type": "code",
      "metadata": {
        "id": "uL_m3KFUsxxs"
      },
      "source": [
        "'we'+' '+'are'+' '+'learning'+' '+'python'"
      ],
      "execution_count": null,
      "outputs": []
    },
    {
      "cell_type": "markdown",
      "metadata": {
        "id": "x7OAnBXCs3ai"
      },
      "source": [
        "#### Exercise\n",
        "If you're thinking that there should be an easier way to combine strings into one, you're right.  Try searching something like \"connect strings in Python with a space\".  See what you find.  "
      ]
    },
    {
      "cell_type": "code",
      "metadata": {
        "id": "gtt6GpKttV9x"
      },
      "source": [
        "r=['we','are','learning','python']\n",
        "# connect the words to the result is: 'we are learning python'\n",
        "# your code\n",
        "\n"
      ],
      "execution_count": null,
      "outputs": []
    },
    {
      "cell_type": "markdown",
      "metadata": {
        "id": "hG7M-JtBuaTh"
      },
      "source": [
        "### 1.1.5 Booleans and Comparisons\n",
        "Booleans are expressions of True or False.  These become useful when we need to write functions (reusable code) in the future.\n",
        "\n",
        "Let's start by setting variable to equal True and False. Notice the capitalization.\n",
        "```\n",
        "t=True\n",
        "f=False\n",
        "```\n",
        "Then check the data types for t and f:\n",
        "```\n",
        "type(t)\n",
        "type(f)\n",
        "```"
      ]
    },
    {
      "cell_type": "code",
      "metadata": {
        "id": "a42E8sj8wqmX"
      },
      "source": [
        "t=True\n",
        "f=False\n",
        "\n",
        "print(type(t))\n",
        "print(type(f))"
      ],
      "execution_count": null,
      "outputs": []
    },
    {
      "cell_type": "markdown",
      "metadata": {
        "id": "ASzPaYcuwypd"
      },
      "source": [
        "Note that the boolean values True and False are pre-defined, meaning they already exist in the Python language."
      ]
    },
    {
      "cell_type": "markdown",
      "metadata": {
        "id": "Z3QkY-_BxEXA"
      },
      "source": [
        "There is some not-so-obvious behavior worth knowing about relating to boolean values.  We can use the ```bool()``` function to check the Boolean value of an expression.  Try:\n",
        "```\n",
        "a=0\n",
        "bool(a)\n",
        "```\n",
        "and\n",
        "```\n",
        "b=''\n",
        "bool(b)\n",
        "```"
      ]
    },
    {
      "cell_type": "code",
      "metadata": {
        "id": "8UrPvEj3yxGR"
      },
      "source": [
        "a=0\n",
        "bool(a)"
      ],
      "execution_count": null,
      "outputs": []
    },
    {
      "cell_type": "code",
      "metadata": {
        "id": "Cds3-YQXy01x"
      },
      "source": [
        "b=''\n",
        "bool(b)"
      ],
      "execution_count": null,
      "outputs": []
    },
    {
      "cell_type": "markdown",
      "metadata": {
        "id": "BaCwCfscy5sq"
      },
      "source": [
        "In short, any object with a 0 or 'Null' value has a boolean equivalent of False in Python.  \n",
        "\n",
        "Any object that does have a value has a boolean value of True in Python.  For example:\n",
        "```\n",
        "c=9\n",
        "bool(c)\n",
        "```"
      ]
    },
    {
      "cell_type": "code",
      "metadata": {
        "id": "3zlT_Leh18pv"
      },
      "source": [
        "c=9\n",
        "bool(c)"
      ],
      "execution_count": null,
      "outputs": []
    },
    {
      "cell_type": "code",
      "metadata": {
        "id": "3yz1x5BR2Adb"
      },
      "source": [
        "d='yes'\n",
        "bool(d)"
      ],
      "execution_count": null,
      "outputs": []
    },
    {
      "cell_type": "markdown",
      "metadata": {
        "id": "WewfeBky1paI"
      },
      "source": [
        "#### Comparisons\n",
        "Booleans are often used in the context of comparisons.  There are two main types of comparisons, relational and logical.  "
      ]
    },
    {
      "cell_type": "markdown",
      "metadata": {
        "id": "PJ-pknA_1ybW"
      },
      "source": [
        "#### Relational comparisons\n",
        "A comparison operator in python, also called python relational operator, compares the values of two operands and returns True or False based on whether the condition is met  \n",
        "\n",
        "|Syntax |Usage |Interpretation|\n",
        "|--|--|--|\n",
        "|==|x==y|True if x is equal to y|\n",
        "|<|x<y|True if x is less than y|\n",
        "|>|x>y|True if x is greater than y|\n",
        "|<=|x<=y|True if x is less than or equal to y|\n",
        "|>=|x>=y|True if x is greater than or equal to y|\n"
      ]
    },
    {
      "cell_type": "code",
      "metadata": {
        "id": "-ZYBVqlO2LFk"
      },
      "source": [
        "# try it out\n",
        "x=4\n",
        "y=5\n",
        "x==y"
      ],
      "execution_count": null,
      "outputs": []
    },
    {
      "cell_type": "code",
      "metadata": {
        "id": "_tpBrQgs2i6e"
      },
      "source": [
        "# try it out\n",
        "x=4\n",
        "y=5\n",
        "x<y"
      ],
      "execution_count": null,
      "outputs": []
    },
    {
      "cell_type": "code",
      "metadata": {
        "id": "4tl8OYPa2n_G"
      },
      "source": [
        "# try it out\n",
        "x=4\n",
        "y=5\n",
        "x>y"
      ],
      "execution_count": null,
      "outputs": []
    },
    {
      "cell_type": "code",
      "metadata": {
        "id": "p5z7-yUS2sJO"
      },
      "source": [
        "# try it out\n",
        "x=4\n",
        "y=5\n",
        "x<=y"
      ],
      "execution_count": null,
      "outputs": []
    },
    {
      "cell_type": "code",
      "metadata": {
        "id": "yCgOyBlY2roB"
      },
      "source": [
        "# try it out\n",
        "x=4\n",
        "y=5\n",
        "x>=y"
      ],
      "execution_count": null,
      "outputs": []
    },
    {
      "cell_type": "markdown",
      "metadata": {
        "id": "jpVLCJQl20NY"
      },
      "source": [
        "#### Logical Comparisons\n",
        "Logical operators are typically used to evaluate whether two or more expressions are true or not true. For example, they can be used to determine if the grade is passing and that the student is registered in the course, and if both cases are true then the student will be assigned a grade in the system. Another example would be to determine whether a user is a valid active customer of an online shop based on whether they have store credit or have made a purchase in the past 6 months. [Source](https://www.digitalocean.com/community/tutorials/understanding-boolean-logic-in-python-3)\n",
        "\n",
        "|Syntax|Usage|Interpretation|\n",
        "|--|--|--|\n",
        "|not|not x|True if x is False|\n",
        "|and|x and y|True if both x and y are True|\n",
        "|or|x or y|True if either x or y is True|\n",
        "\n",
        "Let's try to get the hang of how this works with some exercises."
      ]
    },
    {
      "cell_type": "markdown",
      "metadata": {
        "id": "ncSz5glk4NME"
      },
      "source": [
        "Set the following variables:\n",
        "```\n",
        "x=4\n",
        "y=5\n",
        "```\n",
        "\n",
        "Try to predict whether the following will be True or False.\n",
        "\n",
        "|comparison|Boolean value|\n",
        "|--|--|\n",
        "|x>2 and y>2|<input type=\"checkbox\">True <input type=\"checkbox\">False|\n",
        "|x>2 and y<2|<input type=\"checkbox\">True <input type=\"checkbox\">False|\n",
        "|x<2 and y<2|<input type=\"checkbox\">True <input type=\"checkbox\">False|\n",
        "|x>2 or y>2|<input type=\"checkbox\">True <input type=\"checkbox\">False|\n",
        "|x<2 or y>2|<input type=\"checkbox\">True <input type=\"checkbox\">False|\n",
        "|x<2 or y<2|<input type=\"checkbox\">True <input type=\"checkbox\">False|  \n",
        "|not(x>2 or y>2)|<input type=\"checkbox\">True <input type=\"checkbox\">False|"
      ]
    },
    {
      "cell_type": "code",
      "metadata": {
        "id": "eejHGMQn42PR"
      },
      "source": [
        "x=4\n",
        "y=5\n",
        "x>2 and y>2"
      ],
      "execution_count": null,
      "outputs": []
    },
    {
      "cell_type": "code",
      "metadata": {
        "id": "L18YO8QP554Z"
      },
      "source": [
        "x=4\n",
        "y=5\n",
        "x>2 and y<2"
      ],
      "execution_count": null,
      "outputs": []
    },
    {
      "cell_type": "code",
      "metadata": {
        "id": "y_PkAWKE5_6s"
      },
      "source": [
        "x=4\n",
        "y=5\n",
        "x<2 and y>2"
      ],
      "execution_count": null,
      "outputs": []
    },
    {
      "cell_type": "code",
      "metadata": {
        "id": "uA5D3OUx5_3B"
      },
      "source": [
        "x=4\n",
        "y=5\n",
        "x>2 or y>2"
      ],
      "execution_count": null,
      "outputs": []
    },
    {
      "cell_type": "code",
      "metadata": {
        "id": "aXyw-pi75_0X"
      },
      "source": [
        "x=4\n",
        "y=5\n",
        "x<2 or y>2"
      ],
      "execution_count": null,
      "outputs": []
    },
    {
      "cell_type": "code",
      "metadata": {
        "id": "YQ9OEjwG5_m1"
      },
      "source": [
        "x=4\n",
        "y=5\n",
        "x<2 and y<2"
      ],
      "execution_count": null,
      "outputs": []
    },
    {
      "cell_type": "code",
      "metadata": {
        "id": "0DlK_owo5_Uf"
      },
      "source": [
        "x=4\n",
        "y=5\n",
        "not(x>2 or y>2)"
      ],
      "execution_count": null,
      "outputs": []
    },
    {
      "cell_type": "markdown",
      "metadata": {
        "id": "LdFpnfGH7rYr"
      },
      "source": [
        "### 1.1.6 Variables and Assignment\n",
        "Variables must be assigned before you can use them.  ```name=expression```.  Expressions (values) must be 'evaluable' that is, they must contain other expressions that are already defined in python.  \n",
        "\n",
        "**Types of Assignment**\n",
        "There are four main types of assignment in Python:\n",
        "\n",
        "**Simple Assignment**\n",
        "```\n",
        "x=6\n",
        "```\n",
        "\n",
        "**Multiple Assignment**\n",
        "```\n",
        "x=y=5\n",
        "```\n",
        "\n",
        "**Unpacking Assignment**\n",
        "```\n",
        "x,y=2,4\n",
        "```\n",
        "\n",
        "**Augmented Assignment/Reassignment (x must already be assigned a value)**\n",
        "\n",
        "```x+=2``` is equivalent to ```x=x+2```\n",
        "\n",
        "Let's experiment with Augmented Assignment a bit\n"
      ]
    },
    {
      "cell_type": "code",
      "metadata": {
        "id": "g-kLY4b-9LXf"
      },
      "source": [
        "x=6\n",
        "x+=2\n",
        "x+=2\n",
        "x+=2"
      ],
      "execution_count": null,
      "outputs": []
    },
    {
      "cell_type": "markdown",
      "metadata": {
        "id": "KUFHYa9j9TNy"
      },
      "source": [
        "Now, what is x?"
      ]
    },
    {
      "cell_type": "code",
      "metadata": {
        "id": "9oB9mfpy9rnn"
      },
      "source": [
        "x"
      ],
      "execution_count": null,
      "outputs": []
    }
  ]
}